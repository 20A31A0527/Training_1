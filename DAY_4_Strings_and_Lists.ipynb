{
  "nbformat": 4,
  "nbformat_minor": 0,
  "metadata": {
    "colab": {
      "provenance": [],
      "authorship_tag": "ABX9TyMYhzb98H4gg2sjul+0RsNg",
      "include_colab_link": true
    },
    "kernelspec": {
      "name": "python3",
      "display_name": "Python 3"
    },
    "language_info": {
      "name": "python"
    }
  },
  "cells": [
    {
      "cell_type": "markdown",
      "metadata": {
        "id": "view-in-github",
        "colab_type": "text"
      },
      "source": [
        "<a href=\"https://colab.research.google.com/github/20A31A0527/Training_1/blob/main/DAY_4_Strings_and_Lists.ipynb\" target=\"_parent\"><img src=\"https://colab.research.google.com/assets/colab-badge.svg\" alt=\"Open In Colab\"/></a>"
      ]
    },
    {
      "cell_type": "code",
      "execution_count": null,
      "metadata": {
        "colab": {
          "base_uri": "https://localhost:8080/"
        },
        "id": "ZzUL9fYEO2sI",
        "outputId": "bdaa447a-49cb-4f6a-de24-1b90d027de5c"
      },
      "outputs": [
        {
          "output_type": "stream",
          "name": "stdout",
          "text": [
            "Gate Hate Iate Jate Kate Late "
          ]
        }
      ],
      "source": [
        "#abcderian series\n",
        "str1='GHIJKL'\n",
        "str2='ate'\n",
        "for i in str1:\n",
        "  print((i+str2),end=\" \")\n"
      ]
    },
    {
      "cell_type": "code",
      "source": [
        "#WRITE A PROGRAM TO EVALUATE LIST OF A CUBES TILL THE RANGE OF 10\n",
        "cubes=[]\n",
        "for i in range(11):\n",
        "  cubes.append(i**3)\n",
        "print(cubes)"
      ],
      "metadata": {
        "colab": {
          "base_uri": "https://localhost:8080/"
        },
        "id": "sjBJB7y4YDm5",
        "outputId": "832efb97-6efd-4146-ef27-3f2e8d5086e3"
      },
      "execution_count": null,
      "outputs": [
        {
          "output_type": "stream",
          "name": "stdout",
          "text": [
            "[0, 1, 8, 27, 64, 125, 216, 343, 512, 729, 1000]\n"
          ]
        }
      ]
    },
    {
      "cell_type": "code",
      "source": [
        "#WRITE A PROGRAM TO FIND THE SUM AND MEAN OF SERIES 0 TO 10\n",
        "list=[]\n",
        "sum=0\n",
        "mean=0\n",
        "for i in range(11):\n",
        "  sum=sum+i\n",
        "print(sum)\n",
        "mean=sum/10\n",
        "print(mean)\n"
      ],
      "metadata": {
        "colab": {
          "base_uri": "https://localhost:8080/"
        },
        "id": "7o08vS5CZhM4",
        "outputId": "f41ff577-512b-4068-dd17-dff643233786"
      },
      "execution_count": null,
      "outputs": [
        {
          "output_type": "stream",
          "name": "stdout",
          "text": [
            "55\n",
            "5.5\n"
          ]
        }
      ]
    },
    {
      "cell_type": "code",
      "source": [
        "#PREDEFINED FUNCTIONS OF LIST\n",
        "l=[11,34,2,3,56]\n",
        "print(max(l))\n",
        "print(min(l))\n",
        "#sum\n",
        "\n",
        "\n"
      ],
      "metadata": {
        "colab": {
          "base_uri": "https://localhost:8080/"
        },
        "id": "oBglLMZ6apLg",
        "outputId": "9bb33e34-1f6a-4a6a-f3ca-f4a3fe763a68"
      },
      "execution_count": null,
      "outputs": [
        {
          "output_type": "stream",
          "name": "stdout",
          "text": [
            "56\n",
            "2\n"
          ]
        }
      ]
    },
    {
      "cell_type": "code",
      "source": [
        "#all,any,list,sort\n",
        "num=[12,34,2,0,45,2]\n",
        "print(sorted(num))\n",
        "num.append(21)        #appends new value at the end of the list\n",
        "print(num)\n",
        "print(sorted(num))    #sorts the list in ascending order\n",
        "print(num.count(2))   #gives the occurence count of a number in a list\n",
        "num.insert(2,56)      #inserts new value at the index given\n",
        "print(num)\n",
        "num.remove(2))"
      ],
      "metadata": {
        "colab": {
          "base_uri": "https://localhost:8080/"
        },
        "id": "7m_WxQDKc3yV",
        "outputId": "20163a16-e071-4111-abb1-b8ab84fb721e"
      },
      "execution_count": null,
      "outputs": [
        {
          "output_type": "stream",
          "name": "stdout",
          "text": [
            "[0, 2, 2, 12, 34, 45]\n",
            "[12, 34, 2, 0, 45, 2, 21]\n",
            "[0, 2, 2, 12, 21, 34, 45]\n",
            "2\n",
            "[12, 34, 56, 2, 0, 45, 2, 21]\n",
            "None\n"
          ]
        }
      ]
    },
    {
      "cell_type": "code",
      "source": [
        "num=[12,34,2,0,45,2]\n",
        "num.insert(2,56)      #inserts new value at the index given\n",
        "print(num)\n",
        "num.remove(34)         #removes the given value\n",
        "print(num)"
      ],
      "metadata": {
        "colab": {
          "base_uri": "https://localhost:8080/"
        },
        "id": "HhM1bG6CfTR9",
        "outputId": "d9b00ea8-c863-48ef-d046-c960434d2598"
      },
      "execution_count": null,
      "outputs": [
        {
          "output_type": "stream",
          "name": "stdout",
          "text": [
            "[12, 34, 56, 2, 0, 45, 2]\n",
            "[12, 56, 2, 0, 45, 2]\n"
          ]
        }
      ]
    },
    {
      "cell_type": "code",
      "source": [
        "#TOWER OF HANOI\n",
        "def hanoi(n,a,b,c):\n",
        "  if n>0:\n",
        "    hanoi(n-1,a,c,b)\n",
        "    if a:\n",
        "      c.append(a.pop())\n",
        "    hanoi(n-1,b,a,c)\n",
        "a=[1,2,3,4]\n",
        "b=[]\n",
        "c=[]\n",
        "hanoi(len(a),a,b,c)\n",
        "print(a,b,c)"
      ],
      "metadata": {
        "id": "N3lh-sb2hsMl",
        "colab": {
          "base_uri": "https://localhost:8080/"
        },
        "outputId": "5fee82fe-f698-4058-b895-a0f3ae1281bc"
      },
      "execution_count": null,
      "outputs": [
        {
          "output_type": "stream",
          "name": "stdout",
          "text": [
            "[] [] [1, 2, 3, 4]\n"
          ]
        }
      ]
    },
    {
      "cell_type": "code",
      "source": [
        "#OPERATORS OF LIST\n",
        "#in\n",
        "#not in\n",
        "#repetition\n",
        "#concatenation\n",
        "str=[11,21,34,56,78,90]\n",
        "print(len(str))                            #prints number of elements in a list\n",
        "print(sum(str))                            #prints sum of elements in a list"
      ],
      "metadata": {
        "colab": {
          "base_uri": "https://localhost:8080/"
        },
        "id": "w2bqm1BbLIi2",
        "outputId": "90f135e8-2385-4af4-b6af-5f6fc09423ac"
      },
      "execution_count": null,
      "outputs": [
        {
          "output_type": "stream",
          "name": "stdout",
          "text": [
            "6\n",
            "290\n"
          ]
        }
      ]
    },
    {
      "cell_type": "code",
      "source": [
        "num=[32,23,5,7,2]\n",
        "num.reverse()\n",
        "print(num)\n",
        "num.sort()                      #sort is used in list whereas sorted() is used in Strings\n",
        "print(num)"
      ],
      "metadata": {
        "colab": {
          "base_uri": "https://localhost:8080/"
        },
        "id": "J9DjECOXOSMS",
        "outputId": "da5bef45-d830-4e6b-ac66-ce16c80a4359"
      },
      "execution_count": null,
      "outputs": [
        {
          "output_type": "stream",
          "name": "stdout",
          "text": [
            "[2, 7, 5, 23, 32]\n",
            "[2, 5, 7, 23, 32]\n"
          ]
        }
      ]
    },
    {
      "cell_type": "code",
      "source": [
        "a=['1','abc','H','def']       \n",
        "a.sort()\n",
        "print(a)          #prints according to ASCII values"
      ],
      "metadata": {
        "colab": {
          "base_uri": "https://localhost:8080/"
        },
        "id": "niR51fPMOppE",
        "outputId": "4b59ad34-c35d-4c78-eabc-d77165d5fafd"
      },
      "execution_count": null,
      "outputs": [
        {
          "output_type": "stream",
          "name": "stdout",
          "text": [
            "['1', 'H', 'abc', 'def']\n"
          ]
        }
      ]
    },
    {
      "cell_type": "code",
      "source": [
        "text=['p','r','o','g','r','a','m']\n",
        "text[2:5]=[]\n",
        "print(text)"
      ],
      "metadata": {
        "colab": {
          "base_uri": "https://localhost:8080/"
        },
        "id": "_DRe1-FxP2Z0",
        "outputId": "02f69137-1dfb-467f-81f9-ae021494fdbe"
      },
      "execution_count": null,
      "outputs": [
        {
          "output_type": "stream",
          "name": "stdout",
          "text": [
            "['p', 'r', 'a', 'm']\n"
          ]
        }
      ]
    },
    {
      "cell_type": "code",
      "source": [
        "#WRITE A PROGRAM TO COMBINE A LIST OF CUBES FOR GIVEN NUMBER IN TWO LINES\n",
        "cubes=[i**3 for i in range(11)] \n",
        "print(cubes)\n"
      ],
      "metadata": {
        "colab": {
          "base_uri": "https://localhost:8080/"
        },
        "id": "T4ERnopUQxje",
        "outputId": "59dedcaf-fdb6-4567-ac8a-5947621f51a8"
      },
      "execution_count": null,
      "outputs": [
        {
          "output_type": "stream",
          "name": "stdout",
          "text": [
            "[0, 1, 8, 27, 64, 125, 216, 343, 512, 729, 1000]\n"
          ]
        }
      ]
    },
    {
      "cell_type": "code",
      "source": [
        "#\n",
        "list=[1,2,3,4]\n",
        "index=0\n",
        "for i in list:\n",
        "  print(\"Index [\",index, \"]=\",i)\n",
        "  index=index+1"
      ],
      "metadata": {
        "colab": {
          "base_uri": "https://localhost:8080/"
        },
        "id": "RMdbrJRpSUSj",
        "outputId": "09363c48-379f-453e-9b27-f5177d359a7d"
      },
      "execution_count": null,
      "outputs": [
        {
          "output_type": "stream",
          "name": "stdout",
          "text": [
            "Index [ 0 ]= 1\n",
            "Index [ 1 ]= 2\n",
            "Index [ 2 ]= 3\n",
            "Index [ 3 ]= 4\n"
          ]
        }
      ]
    },
    {
      "cell_type": "code",
      "source": [
        "#PROGRAM ON TIME ESTIMATION FOR A PARTICULAR DISTANCE\n",
        "n=int(input())\n",
        "if n==0:\n",
        "  print(\"Time Estimated:0 Minutes\")\n",
        "elif n in range(1,2000):\n",
        "  print(\"Time Estimated:25 Minutes\")\n",
        "elif n in range(2001,4000):\n",
        "  print(\"Time Estimated:35 Minutes\")\n",
        "elif n in range(4001,7000):\n",
        "  print(\"Time Estimated:45 Minutes\")\n",
        "else:\n",
        "  print(\"Invalid output\")"
      ],
      "metadata": {
        "colab": {
          "base_uri": "https://localhost:8080/"
        },
        "id": "G--l1Y3yUOSj",
        "outputId": "f311b9f1-235c-4157-83a4-39d6220d9dd8"
      },
      "execution_count": null,
      "outputs": [
        {
          "output_type": "stream",
          "name": "stdout",
          "text": [
            "2500\n",
            "Time Estimated:35 Minutes\n"
          ]
        }
      ]
    }
  ]
}