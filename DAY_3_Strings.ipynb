{
  "nbformat": 4,
  "nbformat_minor": 0,
  "metadata": {
    "colab": {
      "provenance": [],
      "authorship_tag": "ABX9TyPcx5Zkm/plfS2tr+O4wJj8",
      "include_colab_link": true
    },
    "kernelspec": {
      "name": "python3",
      "display_name": "Python 3"
    },
    "language_info": {
      "name": "python"
    }
  },
  "cells": [
    {
      "cell_type": "markdown",
      "metadata": {
        "id": "view-in-github",
        "colab_type": "text"
      },
      "source": [
        "<a href=\"https://colab.research.google.com/github/20A31A0527/Training_1/blob/main/DAY_3_Strings.ipynb\" target=\"_parent\"><img src=\"https://colab.research.google.com/assets/colab-badge.svg\" alt=\"Open In Colab\"/></a>"
      ]
    },
    {
      "cell_type": "code",
      "execution_count": null,
      "metadata": {
        "colab": {
          "base_uri": "https://localhost:8080/"
        },
        "id": "CaEDwlwHIGey",
        "outputId": "78ad5eb2-3cea-48c4-a2f3-ed14fc9d9393"
      },
      "outputs": [
        {
          "output_type": "stream",
          "name": "stdout",
          "text": [
            "Message [ 0 ]= j\n",
            "Message [ 1 ]= a\n",
            "Message [ 2 ]= y\n",
            "Message [ 3 ]= s\n"
          ]
        }
      ],
      "source": [
        "#STRINGS BASIC FORMAT\n",
        "text='jays'\n",
        "index=0\n",
        "for i in text:\n",
        "  print(\"Message [\",index, \"]=\",i)\n",
        "  index+=1\n"
      ]
    },
    {
      "cell_type": "code",
      "source": [
        "#STRING FUNCTIONS\n",
        "text='raja the great'   \n",
        "print(text.title())        #title()\n",
        "print(text.upper())        #upper()\n",
        "txt='WEDNESDAY'\n",
        "print(txt.lower())        #lower()"
      ],
      "metadata": {
        "colab": {
          "base_uri": "https://localhost:8080/"
        },
        "id": "HAWZfA5ya6A-",
        "outputId": "48888a1f-52e3-43c9-edc9-a7639eeeed79"
      },
      "execution_count": null,
      "outputs": [
        {
          "output_type": "stream",
          "name": "stdout",
          "text": [
            "Raja The Great\n",
            "RAJA THE GREAT\n",
            "wednesday\n"
          ]
        }
      ]
    },
    {
      "cell_type": "code",
      "source": [
        "#zfill-------Zero filling\n",
        "num='27'\n",
        "print(num.zfill(3))"
      ],
      "metadata": {
        "colab": {
          "base_uri": "https://localhost:8080/"
        },
        "id": "R906qNOFcS4l",
        "outputId": "7a8074d3-52db-4b56-ad82-92bf77e556c8"
      },
      "execution_count": null,
      "outputs": [
        {
          "output_type": "stream",
          "name": "stdout",
          "text": [
            "027\n"
          ]
        }
      ]
    },
    {
      "cell_type": "code",
      "source": [
        "#ARMSTRONG\n",
        "n=int(input())\n",
        "sum=0\n",
        "while n!=0:\n",
        "  r=n%10\n",
        "  sum=sum+(r*r*r)\n",
        "  n=n//10\n",
        "if sum==n:\n",
        "  print(\"Armstrong\")\n",
        "else:\n",
        "  print(\"Not Armstrong\")    #wrong\n"
      ],
      "metadata": {
        "colab": {
          "base_uri": "https://localhost:8080/"
        },
        "id": "beaIbeUK8iGW",
        "outputId": "7b9fa7da-4c21-42a3-a355-bb2c90b985f0"
      },
      "execution_count": null,
      "outputs": [
        {
          "output_type": "stream",
          "name": "stdout",
          "text": [
            "371\n",
            "Not Armstrong\n"
          ]
        }
      ]
    },
    {
      "cell_type": "code",
      "source": [
        "#\n",
        "text=\"   Jaya Sri    \"\n",
        "print(text.lstrip())  #lstrip()\n",
        "print(max(text))      #max()\n"
      ],
      "metadata": {
        "colab": {
          "base_uri": "https://localhost:8080/"
        },
        "id": "OThEUc99-JFV",
        "outputId": "07e036b5-295e-4e2c-aabd-5b6e3eaa86a7"
      },
      "execution_count": null,
      "outputs": [
        {
          "output_type": "stream",
          "name": "stdout",
          "text": [
            "Jaya Sri    \n",
            "y\n"
          ]
        }
      ]
    },
    {
      "cell_type": "code",
      "source": [
        "name=\"jayasri\"\n",
        "print(min(name))               #min()\n",
        "print(name.replace('j','g'))   #replace()\n"
      ],
      "metadata": {
        "colab": {
          "base_uri": "https://localhost:8080/"
        },
        "id": "EoqOagPd_RiF",
        "outputId": "b02e7456-046c-4cf0-b9d2-2860d08a44d1"
      },
      "execution_count": null,
      "outputs": [
        {
          "output_type": "stream",
          "name": "stdout",
          "text": [
            "a\n",
            "gayasri\n"
          ]
        }
      ]
    },
    {
      "cell_type": "code",
      "source": [
        "text=\"ViJayaWaDa\"\n",
        "print(text.swapcase())     #swapcase()-coverts lower to upper as well as upper to lower"
      ],
      "metadata": {
        "colab": {
          "base_uri": "https://localhost:8080/"
        },
        "id": "fsq8_XKjAGaF",
        "outputId": "3fdc6b21-962b-4756-a89c-e18f2b32c55c"
      },
      "execution_count": null,
      "outputs": [
        {
          "output_type": "stream",
          "name": "stdout",
          "text": [
            "vIjAYAwAdA\n"
          ]
        }
      ]
    },
    {
      "cell_type": "code",
      "source": [
        "text='abc,def,ghi,ijk'\n",
        "print(text.split(','))      #split-separates the given items using delimiliter\n",
        "print(text.split('-'))     "
      ],
      "metadata": {
        "colab": {
          "base_uri": "https://localhost:8080/"
        },
        "id": "IufndrgqAfI9",
        "outputId": "13d3e3c7-bb7c-451d-b5d6-d5005ad842f3"
      },
      "execution_count": null,
      "outputs": [
        {
          "output_type": "stream",
          "name": "stdout",
          "text": [
            "['abc', 'def', 'ghi', 'ijk']\n",
            "['abc,def,ghi,ijk']\n"
          ]
        }
      ]
    },
    {
      "cell_type": "code",
      "source": [
        "print('-'.join(['abc','def','ghi','ijk']))    #join()"
      ],
      "metadata": {
        "colab": {
          "base_uri": "https://localhost:8080/"
        },
        "id": "30OycBFsBszM",
        "outputId": "fce2b82d-d935-4571-9700-ab99adbf0f36"
      },
      "execution_count": null,
      "outputs": [
        {
          "output_type": "stream",
          "name": "stdout",
          "text": [
            "abc-def-ghi-ijk\n"
          ]
        }
      ]
    },
    {
      "cell_type": "code",
      "source": [
        "name=\"Aditya369\"\n",
        "print(name.isalnum())\n",
        "print(name.isalpha())\n",
        "print(name.isdigit())\n",
        "print(name.isnumeric())"
      ],
      "metadata": {
        "colab": {
          "base_uri": "https://localhost:8080/"
        },
        "id": "Ts83UZVuCxT0",
        "outputId": "40502cf8-dcdd-417c-9bd6-d818b4fcebcb"
      },
      "execution_count": null,
      "outputs": [
        {
          "output_type": "stream",
          "name": "stdout",
          "text": [
            "True\n",
            "False\n",
            "False\n",
            "False\n"
          ]
        }
      ]
    },
    {
      "cell_type": "code",
      "source": [
        "text=\"all it takes\"\n",
        "print(text.islower())\n",
        "print(text.isupper())\n",
        "print(text.isspace())"
      ],
      "metadata": {
        "colab": {
          "base_uri": "https://localhost:8080/"
        },
        "id": "HSMByXrHDl5F",
        "outputId": "c180854d-5789-4f21-8fc0-250573a2bbf7"
      },
      "execution_count": null,
      "outputs": [
        {
          "output_type": "stream",
          "name": "stdout",
          "text": [
            "True\n",
            "False\n",
            "False\n"
          ]
        }
      ]
    },
    {
      "cell_type": "code",
      "source": [
        "txt=\"Jays\"\n",
        "print(txt.ljust(10,'^'))\n",
        "print(txt.rjust(10,'^'))\n",
        "print(txt.center(20,'^'))"
      ],
      "metadata": {
        "colab": {
          "base_uri": "https://localhost:8080/"
        },
        "id": "fwC7bT35FExk",
        "outputId": "2ecd7136-f06c-438c-bd5c-70ac922e2d0e"
      },
      "execution_count": null,
      "outputs": [
        {
          "output_type": "stream",
          "name": "stdout",
          "text": [
            "Jays^^^^^^\n",
            "^^^^^^Jays\n",
            "^^^^^^^^Jays^^^^^^^^\n"
          ]
        }
      ]
    },
    {
      "cell_type": "code",
      "source": [
        "txt='light'\n",
        "print(txt)\n",
        "print(txt[1:5])\n",
        "print(txt[:6])\n",
        "print(txt[:])\n",
        "print(txt[-4])"
      ],
      "metadata": {
        "colab": {
          "base_uri": "https://localhost:8080/"
        },
        "id": "j7CtZgoxKGYa",
        "outputId": "67aee06a-eaf8-4d0f-c2d2-db5074ec87e3"
      },
      "execution_count": null,
      "outputs": [
        {
          "output_type": "stream",
          "name": "stdout",
          "text": [
            "light\n",
            "ight\n",
            "light\n",
            "light\n",
            "i\n"
          ]
        }
      ]
    },
    {
      "cell_type": "code",
      "source": [
        "txt='barish'\n",
        "print(txt[::-1])\n",
        "print(txt[::3])"
      ],
      "metadata": {
        "colab": {
          "base_uri": "https://localhost:8080/"
        },
        "id": "QRvqJjhRKud5",
        "outputId": "ae55ce17-0716-45cf-b94e-5e97063f71f8"
      },
      "execution_count": null,
      "outputs": [
        {
          "output_type": "stream",
          "name": "stdout",
          "text": [
            "hsirab\n",
            "bi\n"
          ]
        }
      ]
    },
    {
      "cell_type": "code",
      "source": [
        "txt='india is great'\n",
        "for i in txt:\n",
        "  print(i,end=\" \")"
      ],
      "metadata": {
        "colab": {
          "base_uri": "https://localhost:8080/"
        },
        "id": "E9sCEfgWLHvZ",
        "outputId": "389741bd-cfd8-47f6-d311-e96326bc72f3"
      },
      "execution_count": null,
      "outputs": [
        {
          "output_type": "stream",
          "name": "stdout",
          "text": [
            "i n d i a   i s   g r e a t "
          ]
        }
      ]
    },
    {
      "cell_type": "code",
      "source": [
        "txt1='india is great'\n",
        "txt2='n'\n",
        "if txt2 in txt1:\n",
        "  print(\"found\")\n",
        "else:\n",
        "  print(\"not found\")\n"
      ],
      "metadata": {
        "colab": {
          "base_uri": "https://localhost:8080/"
        },
        "id": "ABTlI4feLeP5",
        "outputId": "4f9a61b6-c201-4947-d8e5-972f90a5475b"
      },
      "execution_count": null,
      "outputs": [
        {
          "output_type": "stream",
          "name": "stdout",
          "text": [
            "found\n"
          ]
        }
      ]
    },
    {
      "cell_type": "code",
      "source": [
        "txt='india is great'\n",
        "i=0\n",
        "while i<len(txt):\n",
        "  letter=txt[i]\n",
        "  print(letter,end=\" \")\n",
        "  i=i+1"
      ],
      "metadata": {
        "colab": {
          "base_uri": "https://localhost:8080/"
        },
        "id": "nB6ssFCbMJ4p",
        "outputId": "758dd531-b42c-4e39-938d-a20262c9f37e"
      },
      "execution_count": null,
      "outputs": [
        {
          "output_type": "stream",
          "name": "stdout",
          "text": [
            "i n d i a   i s   g r e a t "
          ]
        }
      ]
    },
    {
      "cell_type": "code",
      "source": [
        "n=int(input())\n",
        "for i in range(1,n+1):\n",
        "  ch='A'\n",
        "  print()\n",
        "  for j in range(1,i+1):\n",
        "    print(ch,end=\" \")\n",
        "    ch=chr(ord(ch)+1)"
      ],
      "metadata": {
        "colab": {
          "base_uri": "https://localhost:8080/"
        },
        "id": "tsX4V0fvM6tS",
        "outputId": "cb095816-5f01-43f6-c70d-a32dd0bd1e78"
      },
      "execution_count": null,
      "outputs": [
        {
          "output_type": "stream",
          "name": "stdout",
          "text": [
            "10\n",
            "\n",
            "A \n",
            "A B \n",
            "A B C \n",
            "A B C D \n",
            "A B C D E \n",
            "A B C D E F \n",
            "A B C D E F G \n",
            "A B C D E F G H \n",
            "A B C D E F G H I \n",
            "A B C D E F G H I J "
          ]
        }
      ]
    },
    {
      "cell_type": "code",
      "source": [
        "txt='all is well'\n",
        "print(txt[::-1])\n",
        "print(txt[::3])"
      ],
      "metadata": {
        "colab": {
          "base_uri": "https://localhost:8080/"
        },
        "id": "CRPuy4VgO4Op",
        "outputId": "0d4aad89-eef1-4cdb-8d16-585cf90cc9d2"
      },
      "execution_count": null,
      "outputs": [
        {
          "output_type": "stream",
          "name": "stdout",
          "text": [
            "llew si lla\n",
            "a  l\n"
          ]
        }
      ]
    },
    {
      "cell_type": "code",
      "source": [
        "#ARUN IS A RAW AGENT WORKING IN IRAQ FOR INDIA.HE GOT TO KNOW THAT IRAQ IS PLANNING TO ATTACK INDIA.HE NEEDS TO SEND THE DANGER MESSAGE TO INDIAN AMBASY IN CYBER CODE\n",
        "message=\"danger\"\n",
        "i=0\n",
        "while i<len(message):\n",
        "  letter=message [i]\n",
        "  print(chr(ord(letter)+2),end=\" \")\n",
        "  i=i+1"
      ],
      "metadata": {
        "colab": {
          "base_uri": "https://localhost:8080/"
        },
        "id": "S-C_Y7iTPswh",
        "outputId": "253cc627-c261-4d24-a384-1160dbae2bca"
      },
      "execution_count": null,
      "outputs": [
        {
          "output_type": "stream",
          "name": "stdout",
          "text": [
            "f c p i g t "
          ]
        }
      ]
    },
    {
      "cell_type": "code",
      "source": [
        "#LISTS\n",
        "list=[1,2,3,4,5,6,7,8,9,10]\n",
        "print(list)\n",
        "print(list[3])\n",
        "print(list[2:5])\n",
        "print(list[1])\n",
        "print(list[::2])\n",
        "print(list[1::3])  #prints 1st index value to before index value of 3\n",
        "print(type(list))\n",
        "list[5]=1000       #changes the value of 5th index\n",
        "print(list)\n",
        "list.append(200)   #add new value into the list\n",
        "print(list)"
      ],
      "metadata": {
        "colab": {
          "base_uri": "https://localhost:8080/"
        },
        "id": "hIWLeETjbYWs",
        "outputId": "0da52b16-d83e-40ce-c0c3-dd7b4128a61b"
      },
      "execution_count": null,
      "outputs": [
        {
          "output_type": "stream",
          "name": "stdout",
          "text": [
            "[1, 2, 3, 4, 5, 6, 7, 8, 9, 10]\n",
            "4\n",
            "[3, 4, 5]\n",
            "2\n",
            "[1, 3, 5, 7, 9]\n",
            "[2, 5, 8]\n",
            "<class 'list'>\n",
            "[1, 2, 3, 4, 5, 1000, 7, 8, 9, 10]\n",
            "[1, 2, 3, 4, 5, 1000, 7, 8, 9, 10, 200]\n"
          ]
        }
      ]
    }
  ]
}