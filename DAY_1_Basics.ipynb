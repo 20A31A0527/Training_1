{
  "nbformat": 4,
  "nbformat_minor": 0,
  "metadata": {
    "colab": {
      "provenance": [],
      "authorship_tag": "ABX9TyP2rlthFPhs6PoqlXE0gMiv",
      "include_colab_link": true
    },
    "kernelspec": {
      "name": "python3",
      "display_name": "Python 3"
    },
    "language_info": {
      "name": "python"
    }
  },
  "cells": [
    {
      "cell_type": "markdown",
      "metadata": {
        "id": "view-in-github",
        "colab_type": "text"
      },
      "source": [
        "<a href=\"https://colab.research.google.com/github/20A31A0527/Training_1/blob/main/DAY_1_Basics.ipynb\" target=\"_parent\"><img src=\"https://colab.research.google.com/assets/colab-badge.svg\" alt=\"Open In Colab\"/></a>"
      ]
    },
    {
      "cell_type": "code",
      "execution_count": null,
      "metadata": {
        "colab": {
          "base_uri": "https://localhost:8080/"
        },
        "id": "7sI8H1w8FvxG",
        "outputId": "66c85928-1aa9-4574-d6a1-033fe9941314"
      },
      "outputs": [
        {
          "output_type": "stream",
          "name": "stdout",
          "text": [
            "Enter first number:78\n",
            "Enter second number:25\n",
            "78 is largest.\n"
          ]
        }
      ],
      "source": [
        "#WRITE A PROGRAM TO CALCULATE THE LARGEST NUMBER OF THE TWO\n",
        "a=int(input(\"Enter first number:\"))\n",
        "b=int(input(\"Enter second number:\"))\n",
        "if a>b:\n",
        "  print(a,\"is largest.\")\n",
        "else:\n",
        "  print(b,\"is largest.\")"
      ]
    },
    {
      "cell_type": "code",
      "source": [
        "#ELIF\n",
        "#WRITE A PROGRAM TO CHECK WHETHER THE GIVEN NUMBER IS NEGATIVE OR POSITIVE OR ZERO\n",
        "n=int(input(\"Enter a number:\"))\n",
        "if n==0:\n",
        "  print(n,\"is zero.\")\n",
        "elif n<0:\n",
        "  print(n,\"is negative.\")\n",
        "elif n>0:\n",
        "  print(n,\"is positive.\")"
      ],
      "metadata": {
        "colab": {
          "base_uri": "https://localhost:8080/"
        },
        "id": "jBK-0yRgIn8S",
        "outputId": "66d04c64-e0c8-41b7-a4a9-5bfb58476e4a"
      },
      "execution_count": null,
      "outputs": [
        {
          "output_type": "stream",
          "name": "stdout",
          "text": [
            "Enter a number:-27\n",
            "-27 is negative.\n"
          ]
        }
      ]
    },
    {
      "cell_type": "code",
      "source": [
        "#WRITE A PROGRAM USING NESTEDIF TO CHECK THE NUMBER'S RANGE IN THE TENTH POSITION\n",
        "#CONSTRAINT-1: IF NUMBER=21 THEN THE RANGE IS 20-30\n",
        "#CONSTRAINT-2: IF NUMBER=9 THEN THE RANGE IS 10-20\n",
        "n=int(input(\"Enter a number:\"))\n",
        "if n>10 and n<=20:\n",
        "  print(n,\"lies in range of 10-20\")\n",
        "if n>20 and n<=30:\n",
        "  print(n,\"lies in range of 20-30\")      #BASIC METHOD\n"
      ],
      "metadata": {
        "colab": {
          "base_uri": "https://localhost:8080/"
        },
        "id": "oqsNwdQhKFsk",
        "outputId": "6da90c60-5ea7-45d0-ab64-da0eef4d07bf"
      },
      "execution_count": null,
      "outputs": [
        {
          "output_type": "stream",
          "name": "stdout",
          "text": [
            "Enter a number:14\n",
            "14 lies in range of 10-20\n"
          ]
        }
      ]
    },
    {
      "cell_type": "code",
      "source": [
        "#WRITE A PROGRAM TO CHECK MAX NUMBER AMONG THREE NUMBERS\n",
        "a=int(input(\"Enter a value:\"))\n",
        "b=int(input(\"Enter b value:\"))\n",
        "c=int(input(\"Enter c value:\"))\n",
        "if a>b:\n",
        "  if a>c:\n",
        "    print(a,\"is maximum.\")\n",
        "  else:\n",
        "    print(c,\"is maximum.\")\n",
        "elif b>c:\n",
        "  print(b,\"is maximum.\")\n",
        "else:\n",
        "  print(\"all are same.\")\n",
        "\n"
      ],
      "metadata": {
        "colab": {
          "base_uri": "https://localhost:8080/"
        },
        "id": "Vn9ecs2qLcGC",
        "outputId": "0d5e8ca3-47e6-45b9-d483-efc0fa8fc427"
      },
      "execution_count": null,
      "outputs": [
        {
          "output_type": "stream",
          "name": "stdout",
          "text": [
            "Enter a value:2\n",
            "Enter b value:5\n",
            "Enter c value:1\n",
            "5 is maximum.\n"
          ]
        }
      ]
    }
  ]
}