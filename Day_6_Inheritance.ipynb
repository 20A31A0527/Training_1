{
  "cells": [
    {
      "cell_type": "markdown",
      "metadata": {
        "id": "view-in-github",
        "colab_type": "text"
      },
      "source": [
        "<a href=\"https://colab.research.google.com/github/20A31A0527/Training_1/blob/main/Day_6_Inheritance.ipynb\" target=\"_parent\"><img src=\"https://colab.research.google.com/assets/colab-badge.svg\" alt=\"Open In Colab\"/></a>"
      ]
    },
    {
      "cell_type": "markdown",
      "source": [
        "**INHERITANCE**\n",
        "\n",
        "Types:\n",
        "\n",
        "1.Single\n",
        "\n",
        "  ----- one parent-one child class \n",
        "\n",
        "2.Multilevel\n",
        "\n",
        "  -----one parent class-one child class-subchild class\n",
        "\n",
        "3.Hierarchical\n",
        "\n",
        "  -----one parent class-multiple child classes\n",
        "\n",
        "4.Multiple\n",
        "\n",
        " ------ multiple parent classes-one child class\n",
        "\n",
        "5.Hybrid\n",
        "\n",
        "  -----combination of more than one type"
      ],
      "metadata": {
        "id": "bNfPAU-qLRE2"
      }
    },
    {
      "cell_type": "code",
      "source": [
        "#SINGLE INHERITANCE\n",
        "class Parent:\n",
        "  def Parent_info(self):\n",
        "    print(\"Parent Class\")\n",
        "class Child(Parent):\n",
        "  pass\n",
        "obj=Child()\n",
        "obj.Parent_info()"
      ],
      "metadata": {
        "colab": {
          "base_uri": "https://localhost:8080/"
        },
        "id": "5PK7zrZFLr4H",
        "outputId": "9a1c5633-11a2-4d7f-b027-5221e107a1e7"
      },
      "execution_count": null,
      "outputs": [
        {
          "output_type": "stream",
          "name": "stdout",
          "text": [
            "Parent Class\n"
          ]
        }
      ]
    },
    {
      "cell_type": "code",
      "execution_count": null,
      "metadata": {
        "id": "ICgc6ASVTBGV"
      },
      "outputs": [],
      "source": [
        "#MULTI LEVEL INHERITANCE\n",
        "class A:\n",
        "  var1=\"in class A\"\n",
        "class B(A):\n",
        "  var2=\"in class B\"\n",
        "class C(B):\n",
        "  var3=\"in class C\"\n",
        "class D(C):\n",
        "  var4=\"in class D\""
      ]
    },
    {
      "cell_type": "code",
      "execution_count": null,
      "metadata": {
        "colab": {
          "base_uri": "https://localhost:8080/"
        },
        "id": "W1-MgVhPT8Po",
        "outputId": "9817ab42-a550-4e6f-ea24-a7e1ee990bb2"
      },
      "outputs": [
        {
          "name": "stdout",
          "output_type": "stream",
          "text": [
            "Curd is made from Milk\n"
          ]
        }
      ],
      "source": [
        "#WRITE A PROGRAM TO IMPLEMENT MULTILEVEL INHERITANCE\n",
        "class Milk:\n",
        "  def Milk_info(self):\n",
        "    print(\"Milk is a Parent Class\")\n",
        "class Curd(Milk):\n",
        "  def Curd_info(self):\n",
        "    print(\"Curd is made from Milk\")\n",
        "class Butter_milk(Curd):\n",
        "  pass\n",
        "obj=Butter_milk()\n",
        "obj.Curd_info()"
      ]
    },
    {
      "cell_type": "code",
      "execution_count": null,
      "metadata": {
        "id": "qfUurC-aXTpz"
      },
      "outputs": [],
      "source": [
        "#HIERARCHIAL INHERITANCE\n",
        "class A:\n",
        "  var=\"in class A\"\n",
        "class B(A):\n",
        "  var=\"in class B\"\n",
        "class C(A):\n",
        "  var=\"in class c\""
      ]
    },
    {
      "cell_type": "code",
      "execution_count": null,
      "metadata": {
        "colab": {
          "base_uri": "https://localhost:8080/"
        },
        "id": "cyLZJ2OuYgxU",
        "outputId": "b88ff085-8016-4958-d66e-92345789978d"
      },
      "outputs": [
        {
          "name": "stdout",
          "output_type": "stream",
          "text": [
            "Vehicle is Parent class\n",
            "car is one child class of Vehicle\n",
            "Vehicle is Parent class\n",
            "Lorry is second child class of Vehicle\n"
          ]
        }
      ],
      "source": [
        "#WRITE A PROGRAM TO IMPLEMENT HIERARCHIAL INHERITANCE\n",
        "class Vehicle:\n",
        "  def Vehicle_info(self):\n",
        "    print(\"Vehicle is Parent class\")\n",
        "class Car(Vehicle):\n",
        "  def Car_info(self):\n",
        "    print(\"car is one child class of Vehicle\")\n",
        "class Lorry(Vehicle):\n",
        "  def Lorry_info(self):\n",
        "    print(\"Lorry is second child class of Vehicle\")\n",
        "ob1=Car()\n",
        "ob2=Lorry()\n",
        "ob1.Vehicle_info()\n",
        "ob1.Car_info()\n",
        "ob2.Vehicle_info()\n",
        "ob2.Lorry_info()\n",
        "\n"
      ]
    },
    {
      "cell_type": "code",
      "execution_count": null,
      "metadata": {
        "colab": {
          "base_uri": "https://localhost:8080/"
        },
        "id": "OfiJ6U-OdjL4",
        "outputId": "7cf5313c-38b7-49bd-db43-47bcc9fed3ce"
      },
      "outputs": [
        {
          "name": "stdout",
          "output_type": "stream",
          "text": [
            "A class\n"
          ]
        }
      ],
      "source": [
        "#MULTIPLE INHERITANCE\n",
        "class A:\n",
        "  def m1(self):\n",
        "    print(\"A class\")\n",
        "class B:\n",
        "  def m2(self):\n",
        "    print(\"B class\")\n",
        "class C(A,B):\n",
        "  pass\n",
        "obj=C()\n",
        "obj.m1()"
      ]
    },
    {
      "cell_type": "code",
      "execution_count": null,
      "metadata": {
        "colab": {
          "base_uri": "https://localhost:8080/"
        },
        "id": "hNPkzrk4abSi",
        "outputId": "0e132219-5516-4b9b-cb96-26f0749acf01"
      },
      "outputs": [
        {
          "name": "stdout",
          "output_type": "stream",
          "text": [
            "Parent1\n"
          ]
        }
      ],
      "source": [
        "#WRITE A PROGRAM TO SHOW MULTIPLE INHERITANCE\n",
        "class Father:\n",
        "  def Father_Info(self):\n",
        "    print(\"Parent1\")\n",
        "class Mother:\n",
        "  def Father_Info(self):                      #when we give both functions as same,it considers the first class\n",
        "    print(\"Parent2\")\n",
        "class Child(Father,Mother):\n",
        "  pass\n",
        "obj=Child()\n",
        "obj.Father_Info()\n"
      ]
    },
    {
      "cell_type": "code",
      "execution_count": null,
      "metadata": {
        "colab": {
          "base_uri": "https://localhost:8080/"
        },
        "id": "LU9SaHm-gJWw",
        "outputId": "efdf3f2c-9a6c-48b1-f772-00cb0c9d3391"
      },
      "outputs": [
        {
          "name": "stdout",
          "output_type": "stream",
          "text": [
            "paper\n"
          ]
        }
      ],
      "source": [
        "#ROCK,PAPER AND SCISSORS \n",
        "import random\n",
        "arr=[\"rock\",\"paper\",\"scissors\"]\n",
        "choice=random.randint(1,10)\n",
        "print(arr[choice])"
      ]
    },
    {
      "cell_type": "code",
      "execution_count": null,
      "metadata": {
        "colab": {
          "base_uri": "https://localhost:8080/"
        },
        "id": "Z1ZprPHHhFP1",
        "outputId": "4258c586-19df-4a2c-e69a-c69f235eade2"
      },
      "outputs": [
        {
          "name": "stdout",
          "output_type": "stream",
          "text": [
            "paper\n",
            "Enter Choice:rock\n",
            "Valid choice\n"
          ]
        }
      ],
      "source": [
        "#ROCK,PAPER AND SCISSORS BY USING USER INPUT\n",
        "import random\n",
        "arr=[\"rock\",\"paper\",\"scissors\"]\n",
        "choice=random.randint(1,10)\n",
        "print(arr[choice])\n",
        "user_choice=input(\"Enter Choice:\").lower()\n",
        "if user_choice in arr:\n",
        "  print(\"Valid choice\")\n",
        "else:\n",
        "  print(\"Invalid choice\")"
      ]
    },
    {
      "cell_type": "markdown",
      "source": [
        "**ABSTRACTION**\n",
        "\n",
        "process of hiding the data\n",
        "\n"
      ],
      "metadata": {
        "id": "fYpfQBvIJeKA"
      }
    },
    {
      "cell_type": "code",
      "source": [
        "from abc import ABC,abstractmethod    \n",
        "class Area(ABC):\n",
        "    @abstractmethod\n",
        "    def square_area(self):\n",
        "        pass\n",
        "    @abstractmethod\n",
        "    def rec_area(self):\n",
        "        pass\n",
        "class square(Area):\n",
        "    def square_area(self):\n",
        "        print(\"Square area=side*side\")\n",
        "    def rec_area(self):\n",
        "        pass\n",
        "class rectangle(Area):\n",
        "    def square_area(self):\n",
        "        pass\n",
        "    def rec_area(self):\n",
        "        print(\"Rectangle area=2(length+breadth)\")\n",
        "obj1=square()\n",
        "obj1.square_area()\n",
        "obj2=rectangle()\n",
        "obj2.rec_area()"
      ],
      "metadata": {
        "id": "w5TtIWhZsfD6",
        "colab": {
          "base_uri": "https://localhost:8080/"
        },
        "outputId": "509bc789-1f98-4507-ebb6-a784a141cf35"
      },
      "execution_count": null,
      "outputs": [
        {
          "output_type": "stream",
          "name": "stdout",
          "text": [
            "Square area=side*side\n",
            "Rectangle area=2(length+breadth)\n"
          ]
        }
      ]
    },
    {
      "cell_type": "markdown",
      "source": [
        "**POLYMORPHISM**\n",
        "\n",
        "same method behaving differently in different situations\n",
        "\n",
        "1.runtime polymorphism or method overriding\n",
        "\n",
        "2.compiletime polymorphism or method overloading"
      ],
      "metadata": {
        "id": "wYj1NqnSKKbT"
      }
    },
    {
      "cell_type": "code",
      "source": [
        "#METHOD OVERRIDING OR RUNTIME POLYMORPHISM\n",
        "class A:\n",
        "    def method_1(self,a,b):   \n",
        "        print(\"sum=\",a+b)\n",
        "class B(A):\n",
        "    def method_1(self,a,b):   \n",
        "        print(\"product=\",a*b)\n",
        "obj=B()\n",
        "obj.method_1(10,20) #SINCE OBJ IS CREATED FOR CLASS B, THE METHOD IN CLASS B WILL BE CHECKED FIRST"
      ],
      "metadata": {
        "colab": {
          "base_uri": "https://localhost:8080/"
        },
        "id": "xgNEFtb4KR-m",
        "outputId": "7d7534e7-7708-46dc-84b7-372c2cc5df97"
      },
      "execution_count": null,
      "outputs": [
        {
          "output_type": "stream",
          "name": "stdout",
          "text": [
            "product= 200\n"
          ]
        }
      ]
    },
    {
      "cell_type": "code",
      "source": [
        "#METHOD OVERLOADING OR COMPILETIME POLYMORPHISM\n",
        "class A:\n",
        "    def method_1(self,a,b):   \n",
        "        print(\"sum=\",a+b)\n",
        "class B(A):\n",
        "    def method_1(self,a,b):   #m1\n",
        "        print(\"product=\",a*b) \n",
        "    def method_1(self,abc):   #m2\n",
        "        print(\"value=\",abc)   \n",
        "obj=B()\n",
        "obj.method_1(100)      #SINCE m2 OVERLOADS m1, WE CAN GIVE ONLY ONE ARGUMENT AS THE METHOD WILL BE REPLACED"
      ],
      "metadata": {
        "colab": {
          "base_uri": "https://localhost:8080/"
        },
        "id": "dYIAtZcSKqSy",
        "outputId": "00f408bd-9ca5-456c-8bc5-38a81948d150"
      },
      "execution_count": null,
      "outputs": [
        {
          "output_type": "stream",
          "name": "stdout",
          "text": [
            "value= 100\n"
          ]
        }
      ]
    }
  ],
  "metadata": {
    "colab": {
      "provenance": [],
      "authorship_tag": "ABX9TyNeBVZGRBFFXowgHcng7K6F",
      "include_colab_link": true
    },
    "kernelspec": {
      "display_name": "Python 3",
      "name": "python3"
    },
    "language_info": {
      "name": "python"
    }
  },
  "nbformat": 4,
  "nbformat_minor": 0
}