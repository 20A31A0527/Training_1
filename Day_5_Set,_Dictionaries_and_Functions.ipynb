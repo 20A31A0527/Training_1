{
  "nbformat": 4,
  "nbformat_minor": 0,
  "metadata": {
    "colab": {
      "provenance": [],
      "authorship_tag": "ABX9TyPs8sSCRlANffZIjF9LhuVe",
      "include_colab_link": true
    },
    "kernelspec": {
      "name": "python3",
      "display_name": "Python 3"
    },
    "language_info": {
      "name": "python"
    }
  },
  "cells": [
    {
      "cell_type": "markdown",
      "metadata": {
        "id": "view-in-github",
        "colab_type": "text"
      },
      "source": [
        "<a href=\"https://colab.research.google.com/github/20A31A0527/Training_1/blob/main/Day_5_Set%2C_Dictionaries_and_Functions.ipynb\" target=\"_parent\"><img src=\"https://colab.research.google.com/assets/colab-badge.svg\" alt=\"Open In Colab\"/></a>"
      ]
    },
    {
      "cell_type": "code",
      "execution_count": null,
      "metadata": {
        "colab": {
          "base_uri": "https://localhost:8080/"
        },
        "id": "7HfBrfGsTnAY",
        "outputId": "104b4a76-8566-4d86-d99a-995b03f028fa"
      },
      "outputs": [
        {
          "output_type": "stream",
          "name": "stdout",
          "text": [
            "{1, 2, 3, 4, 5}\n",
            "<class 'set'>\n"
          ]
        }
      ],
      "source": [
        "set={1,2,3,4,5,1,2,3,4,5}\n",
        "print(set)\n",
        "print(type(set))"
      ]
    },
    {
      "cell_type": "code",
      "source": [
        "set=\"123\"\n",
        "n=int(set)\n",
        "print(n)"
      ],
      "metadata": {
        "colab": {
          "base_uri": "https://localhost:8080/"
        },
        "id": "ZUPOTghiaDnA",
        "outputId": "4884777b-3fd6-464a-f49c-de7467df41bc"
      },
      "execution_count": null,
      "outputs": [
        {
          "output_type": "stream",
          "name": "stdout",
          "text": [
            "123\n"
          ]
        }
      ]
    },
    {
      "cell_type": "code",
      "source": [
        "dic={ \n",
        "     \"key1\":\"Hi\",\n",
        "     \"key2\":\"Hello\",\n",
        "     \"Key3\":\"Hola\"}\n",
        "print(dic)\n"
      ],
      "metadata": {
        "colab": {
          "base_uri": "https://localhost:8080/"
        },
        "id": "9JCL8bJAaaEL",
        "outputId": "b941b9c5-9792-4749-f367-d7f9c2f30533"
      },
      "execution_count": null,
      "outputs": [
        {
          "output_type": "stream",
          "name": "stdout",
          "text": [
            "{'key1': 'Hi', 'key2': 'Hello', 'Key3': 'Hola'}\n"
          ]
        }
      ]
    },
    {
      "cell_type": "code",
      "source": [
        "#update is a method to add new key value pairs in dictionary\n",
        "dic={}\n",
        "dic.update({\n",
        "     \"key1\":\"Hi\",\n",
        "     \"key2\":\"Hello\",\n",
        "     \"key3\":\"Hola\"\n",
        "})\n",
        "print(dic)\n",
        "print(dic[\"key1\"])\n",
        "print(dic[\"key2\"])\n",
        "print(dic['key3'])\n",
        "print(dic.keys())       #gives the keys in a dict\n",
        "print(dic.values())     #gives the values in a dict\n",
        "print(dic.items())      #gives the key value pairs in a dict\n",
        "dic['key3']=\"Hoi\"\n",
        "print(\"New dictionary:\",dic)"
      ],
      "metadata": {
        "colab": {
          "base_uri": "https://localhost:8080/"
        },
        "id": "IrsNBRCDbuRD",
        "outputId": "659625db-0060-413a-b8bd-7455155de4fb"
      },
      "execution_count": null,
      "outputs": [
        {
          "output_type": "stream",
          "name": "stdout",
          "text": [
            "{'key1': 'Hi', 'key2': 'Hello', 'key3': 'Hola'}\n",
            "Hi\n",
            "Hello\n",
            "Hola\n",
            "dict_keys(['key1', 'key2', 'key3'])\n",
            "dict_values(['Hi', 'Hello', 'Hola'])\n",
            "dict_items([('key1', 'Hi'), ('key2', 'Hello'), ('key3', 'Hola')])\n",
            "New dictionary: {'key1': 'Hi', 'key2': 'Hello', 'key3': 'Hoi'}\n"
          ]
        }
      ]
    },
    {
      "cell_type": "code",
      "source": [
        "dic={}\n",
        "dic.update({\n",
        "     0:\"Hi\",\n",
        "     1:\"Hello\",\n",
        "     2:\"Hola\"\n",
        "})\n",
        "print(dic)\n",
        "print(dic[0])"
      ],
      "metadata": {
        "colab": {
          "base_uri": "https://localhost:8080/"
        },
        "id": "bMkBO9OPcyzM",
        "outputId": "a5304e5d-316b-47a9-b60f-9bde4d8afb31"
      },
      "execution_count": null,
      "outputs": [
        {
          "output_type": "stream",
          "name": "stdout",
          "text": [
            "{0: 'Hi', 1: 'Hello', 2: 'Hola'}\n",
            "Hi\n"
          ]
        }
      ]
    },
    {
      "cell_type": "markdown",
      "source": [
        "##FUNCTIONS"
      ],
      "metadata": {
        "id": "i2pLDNjiIG1y"
      }
    },
    {
      "cell_type": "code",
      "source": [
        "#FUNCTIONS ------------------------->REGULAR FUNCTIONS\n",
        "def fun_name(num1,num2):   #   ()--->arguments\n",
        "  print(\"Answer \",num1+num2)\n",
        "fun_name(10,20)"
      ],
      "metadata": {
        "colab": {
          "base_uri": "https://localhost:8080/"
        },
        "id": "-aA1-ww0iCE1",
        "outputId": "a1e0fde7-1398-44f4-8623-4b88bc1a6e44"
      },
      "execution_count": null,
      "outputs": [
        {
          "output_type": "stream",
          "name": "stdout",
          "text": [
            "Answer  30\n"
          ]
        }
      ]
    },
    {
      "cell_type": "code",
      "source": [
        "def fun_name(num1,num2,op):\n",
        "  if op==\"+\":\n",
        "    print(num1+num2)\n",
        "  elif op==\"-\":\n",
        "    print(num1-num2)\n",
        "  elif op==\"*\":\n",
        "    print(num1*num2)\n",
        "fun_name(10,20,\"*\")"
      ],
      "metadata": {
        "colab": {
          "base_uri": "https://localhost:8080/"
        },
        "id": "90RolK8Fjm4c",
        "outputId": "885d5bb5-4d09-4813-bcc6-142038e51a1c"
      },
      "execution_count": null,
      "outputs": [
        {
          "output_type": "stream",
          "name": "stdout",
          "text": [
            "200\n"
          ]
        }
      ]
    },
    {
      "cell_type": "code",
      "source": [
        "#Find the sum of an array using functions\n",
        "def fun(arr):\n",
        "  sum=0\n",
        "  for i in range(len(arr)):\n",
        "    sum=sum+arr[i]\n",
        "  print(sum)\n",
        "arr=[21,23,34]\n",
        "fun(arr)"
      ],
      "metadata": {
        "colab": {
          "base_uri": "https://localhost:8080/"
        },
        "id": "4_Gh3aMboO8G",
        "outputId": "899713c1-8552-4781-bf10-3ce301a66502"
      },
      "execution_count": null,
      "outputs": [
        {
          "output_type": "stream",
          "name": "stdout",
          "text": [
            "78\n"
          ]
        }
      ]
    },
    {
      "cell_type": "markdown",
      "source": [
        "##TYPES OF FUNCTIONS\n",
        "\n",
        "* Regular functions\n",
        "* default value functions\n",
        "* keyword argument functions\n",
        "* variable length functions"
      ],
      "metadata": {
        "id": "VgG92YhkH1Wv"
      }
    },
    {
      "cell_type": "code",
      "source": [
        "#DEFAULT VALUE FUNCTIONS\n",
        "def hello(a,b,c=0):\n",
        "  print(a)\n",
        "  print(b)\n",
        "  print(c)\n",
        "hello(10,20)\n",
        "hello(10,20,30)           #------>takes the value other than default"
      ],
      "metadata": {
        "colab": {
          "base_uri": "https://localhost:8080/"
        },
        "id": "0cmI0Ic7t8Mu",
        "outputId": "6d10c546-2119-43a5-96f6-6cdf6d4d4078"
      },
      "execution_count": null,
      "outputs": [
        {
          "output_type": "stream",
          "name": "stdout",
          "text": [
            "10\n",
            "20\n",
            "0\n",
            "10\n",
            "20\n",
            "30\n"
          ]
        }
      ]
    },
    {
      "cell_type": "code",
      "source": [
        "#KEYWORD ARGUMENT ----->it species the order we give,doesnt follow the argument order\n",
        "def hell0(a,b,c):\n",
        "  print(a)\n",
        "  print(b)\n",
        "  print(c)\n",
        "hello(b=10,c=20,a=30)   "
      ],
      "metadata": {
        "colab": {
          "base_uri": "https://localhost:8080/"
        },
        "id": "1OrUn9KPu-0Q",
        "outputId": "0bc96a0d-d8e6-4e22-c658-80f587781d19"
      },
      "execution_count": null,
      "outputs": [
        {
          "output_type": "stream",
          "name": "stdout",
          "text": [
            "30\n",
            "10\n",
            "20\n"
          ]
        }
      ]
    },
    {
      "cell_type": "code",
      "source": [
        "#VARIABLE LENGTH   ------> '*' returns the values u given\n",
        "def hello(*variable):\n",
        "  print(variable)\n",
        "hello(10,20)\n",
        "hello(10,20,30)\n",
        "hello(10,2,4,5,6)\n",
        "hello()\n"
      ],
      "metadata": {
        "colab": {
          "base_uri": "https://localhost:8080/"
        },
        "id": "IYFOfgVvwMoB",
        "outputId": "a5cffb21-0b18-4c84-a4d2-aee48d80c64a"
      },
      "execution_count": null,
      "outputs": [
        {
          "output_type": "stream",
          "name": "stdout",
          "text": [
            "(10, 20)\n",
            "(10, 20, 30)\n",
            "(10, 2, 4, 5, 6)\n",
            "()\n"
          ]
        }
      ]
    }
  ]
}