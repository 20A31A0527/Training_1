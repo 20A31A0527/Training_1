{
  "nbformat": 4,
  "nbformat_minor": 0,
  "metadata": {
    "colab": {
      "provenance": [],
      "authorship_tag": "ABX9TyP6i9LQTjQmJ9HoSB8ynLf4",
      "include_colab_link": true
    },
    "kernelspec": {
      "name": "python3",
      "display_name": "Python 3"
    },
    "language_info": {
      "name": "python"
    }
  },
  "cells": [
    {
      "cell_type": "markdown",
      "metadata": {
        "id": "view-in-github",
        "colab_type": "text"
      },
      "source": [
        "<a href=\"https://colab.research.google.com/github/20A31A0527/Training_1/blob/main/DAY_2_Looping_Statements.ipynb\" target=\"_parent\"><img src=\"https://colab.research.google.com/assets/colab-badge.svg\" alt=\"Open In Colab\"/></a>"
      ]
    },
    {
      "cell_type": "markdown",
      "source": [
        "**LOOPING STATEMENTS:ITERATION**\n",
        "1.WHILE\n",
        "2.FOR\n",
        "3.WHILE ELSE\n",
        "4.FOR ELSE\n",
        "5.BREAK\n",
        "6.CONTINUE\n",
        "7.PASS"
      ],
      "metadata": {
        "id": "N7BM3YiVCyBX"
      }
    },
    {
      "cell_type": "markdown",
      "source": [],
      "metadata": {
        "id": "UC6NZEZJEaYW"
      }
    },
    {
      "cell_type": "markdown",
      "source": [
        "**3 golden rules **\n",
        "1.Initialization\n",
        "2.condition checking\n",
        "3.incre/decre"
      ],
      "metadata": {
        "id": "N0q08pVzFDa_"
      }
    },
    {
      "cell_type": "code",
      "source": [
        "#printing numbers using while\n",
        "# end= \" \"- for getting values side by side\n",
        "num=int(input(\"Enter number :\"))\n",
        "i=0             #INITIALIZING\n",
        "while(i<=num):  #CONDITION CHECKING\n",
        "  print(i)\n",
        "  i=i+1         #INCREMENTING\n",
        "\n"
      ],
      "metadata": {
        "colab": {
          "base_uri": "https://localhost:8080/"
        },
        "id": "WkMdVLf9FFm2",
        "outputId": "57b803a2-96ac-4fc3-a520-a469c241018d"
      },
      "execution_count": null,
      "outputs": [
        {
          "output_type": "stream",
          "name": "stdout",
          "text": [
            "Enter number :5\n",
            "0\n",
            "1\n",
            "2\n",
            "3\n",
            "4\n",
            "5\n"
          ]
        }
      ]
    },
    {
      "cell_type": "code",
      "source": [
        "#write a program to calculate the sum of n numbers\n",
        "n=int(input(\"Enter number:\"))\n",
        "sum=0\n",
        "i=0\n",
        "while(i<=n):\n",
        "  sum=sum+i\n",
        "  i=i+1\n",
        "print(sum)"
      ],
      "metadata": {
        "colab": {
          "base_uri": "https://localhost:8080/"
        },
        "id": "30_M1A-gEfgm",
        "outputId": "63687740-e437-4b1a-c4ba-a341147c6ff8"
      },
      "execution_count": null,
      "outputs": [
        {
          "output_type": "stream",
          "name": "stdout",
          "text": [
            "Enter number:5\n",
            "15\n"
          ]
        }
      ]
    },
    {
      "cell_type": "code",
      "source": [
        "#write a program to add all the digits in a number\n",
        "num=int(input(\"Enter a number:\"))\n",
        "sum=0\n",
        "while(num!=0):\n",
        "  rem=num%10\n",
        "  sum=sum+rem\n",
        "  num=num//10\n",
        "print(\"Sum of the digits is:\",sum)\n"
      ],
      "metadata": {
        "colab": {
          "base_uri": "https://localhost:8080/"
        },
        "id": "b3BeKenBMaM8",
        "outputId": "3e708b75-338d-4ae7-ae09-740655a81df3"
      },
      "execution_count": null,
      "outputs": [
        {
          "output_type": "stream",
          "name": "stdout",
          "text": [
            "Enter a number:125\n",
            "Sum of the digits is: 8\n"
          ]
        }
      ]
    },
    {
      "cell_type": "code",
      "source": [
        "#write a program to print all even numbers until 10\n",
        "num=int(input(\"Enter number:\"))\n",
        "i=0\n",
        "while (i<=num):\n",
        "  if i%2==0:\n",
        "    print(i)\n",
        "  i=i+1\n",
        "\n",
        "\n",
        "  "
      ],
      "metadata": {
        "colab": {
          "base_uri": "https://localhost:8080/"
        },
        "id": "i4B5fE_HREDb",
        "outputId": "54123d0a-f875-49cc-cf03-bfa53cec4188"
      },
      "execution_count": null,
      "outputs": [
        {
          "output_type": "stream",
          "name": "stdout",
          "text": [
            "Enter number:10\n",
            "0\n",
            "2\n",
            "4\n",
            "6\n",
            "8\n",
            "10\n"
          ]
        }
      ]
    },
    {
      "cell_type": "code",
      "source": [
        "#write a program to print sum of even numbers until 10\n",
        "num=int(input(\"Enter number:\"))\n",
        "i=0\n",
        "sum=0\n",
        "while (i<=num):\n",
        "  if i%2==0:\n",
        "    sum=sum+i\n",
        "  i=i+1\n",
        "print(\"Sum of even numbers until 10=\",sum)"
      ],
      "metadata": {
        "colab": {
          "base_uri": "https://localhost:8080/"
        },
        "id": "rWLGGNFxSb7R",
        "outputId": "2dc3ef9f-046c-4264-9ae1-7126202e09dd"
      },
      "execution_count": null,
      "outputs": [
        {
          "output_type": "stream",
          "name": "stdout",
          "text": [
            "Enter number:10\n",
            "Sum of even numbers until 10= 30\n"
          ]
        }
      ]
    },
    {
      "cell_type": "code",
      "source": [
        "# write a program to calculate number of even numbers sum and number of odd numbers sum in a range\n",
        "n=int(input(\"Enter range:\"))\n",
        "even_sum=0\n",
        "odd_sum=0\n",
        "i=0\n",
        "while(i<=n):\n",
        "  if i%2==0:\n",
        "    even_sum=even_sum+i\n",
        "  else:\n",
        "    odd_sum=odd_sum+i\n",
        "  i=i+1\n",
        "print(\"Even_sum:\",even_sum)\n",
        "print(\"Odd_sum:\",odd_sum)\n",
        "\n",
        "  \n",
        "\n"
      ],
      "metadata": {
        "colab": {
          "base_uri": "https://localhost:8080/"
        },
        "id": "aB4kj82WUT4q",
        "outputId": "a7a30b79-fff6-4735-f9fb-b0bb83e40e7d"
      },
      "execution_count": null,
      "outputs": [
        {
          "output_type": "stream",
          "name": "stdout",
          "text": [
            "Enter range:10\n",
            "Even_sum: 30\n",
            "Odd_sum: 25\n"
          ]
        }
      ]
    },
    {
      "cell_type": "code",
      "source": [
        "#write a program to reverse a number\n",
        "num=int(input(\"Enter a number:\"))\n",
        "temp=0\n",
        "while(num>0):\n",
        "  temp=num%10\n",
        "  print(temp,end=\" \")\n",
        "  num=num//10\n"
      ],
      "metadata": {
        "colab": {
          "base_uri": "https://localhost:8080/"
        },
        "id": "1_kZGEc_W3jI",
        "outputId": "e30f5cc0-de63-4893-bdef-7a638c1d75f9"
      },
      "execution_count": null,
      "outputs": [
        {
          "output_type": "stream",
          "name": "stdout",
          "text": [
            "Enter a number:258\n",
            "8 5 2 "
          ]
        }
      ]
    },
    {
      "cell_type": "code",
      "source": [
        "#write a program to print decimal to binary number\n",
        "dn=int(input(\"Enter a number:\"))\n",
        "bn=0\n",
        "i=0\n",
        "while (dn!=0):\n",
        "  r=dn%2\n",
        "  bn=bn + r*(10**i)\n",
        "  dn=dn//2\n",
        "  i+=1\n",
        "print(bn)\n",
        "  "
      ],
      "metadata": {
        "colab": {
          "base_uri": "https://localhost:8080/"
        },
        "id": "F9yF_YHocuju",
        "outputId": "a11a0bae-6122-4cbb-e9a7-80666b40897a"
      },
      "execution_count": null,
      "outputs": [
        {
          "output_type": "stream",
          "name": "stdout",
          "text": [
            "Enter a number:5\n",
            "101\n"
          ]
        }
      ]
    },
    {
      "cell_type": "code",
      "source": [
        "#write a program to print binary to decimal number\n",
        "bnum=int(input(\"Enter binary number:\"))\n",
        "dnum = 0\n",
        "i = 1\n",
        "while bnum!=0:\n",
        "    rem = bnum%10\n",
        "    dnum = dnum + (rem*i)\n",
        "    i = i*2\n",
        "    bnum = int(bnum/10)\n",
        "\n",
        "print(\"\\nEquivalent Decimal Value = \", dnum)\n",
        "\n",
        "\n",
        "\n",
        "\n"
      ],
      "metadata": {
        "id": "maaWbYc_fh7v",
        "colab": {
          "base_uri": "https://localhost:8080/"
        },
        "outputId": "00cc188a-9bbf-4f07-f631-5a0a6b133872"
      },
      "execution_count": null,
      "outputs": [
        {
          "output_type": "stream",
          "name": "stdout",
          "text": [
            "Enter binary number:100\n",
            "\n",
            "Equivalent Decimal Value =  4\n"
          ]
        }
      ]
    },
    {
      "cell_type": "code",
      "source": [
        "#RANGE WITH ONE PARAMETER(START,N-1)\n",
        "#RANGE WITH TWO PARAMETERS(START,END,DIFFERENCE)\n",
        "for i in range(11):\n",
        "  print(i,end=\" \")"
      ],
      "metadata": {
        "colab": {
          "base_uri": "https://localhost:8080/"
        },
        "id": "tPw5MkAd4n6m",
        "outputId": "3eb20d2b-763c-4d38-c102-b33c56fda4c0"
      },
      "execution_count": null,
      "outputs": [
        {
          "output_type": "stream",
          "name": "stdout",
          "text": [
            "0 1 2 3 4 5 6 7 8 9 10 "
          ]
        }
      ]
    },
    {
      "cell_type": "code",
      "source": [
        "#write a program to calculate the total of n natural numbers and find its average------n=10\n",
        "n=int(input(\"Enter size of Natural Numbers:\"))\n",
        "sum=0\n",
        "i=0\n",
        "for i in range(1,11):\n",
        "  sum=sum+i/n\n",
        "  i=i+1\n",
        "print(sum)\n",
        "  \n",
        "  "
      ],
      "metadata": {
        "colab": {
          "base_uri": "https://localhost:8080/"
        },
        "id": "_cxO6sOm5kk9",
        "outputId": "4f402dc1-cc62-4d7f-92fa-c1be95f2ed9e"
      },
      "execution_count": null,
      "outputs": [
        {
          "output_type": "stream",
          "name": "stdout",
          "text": [
            "Enter size of Natural Numbers:10\n",
            "5.5\n"
          ]
        }
      ]
    },
    {
      "cell_type": "code",
      "source": [
        "#program for Math tables\n",
        "n=int(input(\"Enter a number:\"))\n",
        "print(\"MULTIPLICATION TABLE OF\",n)\n",
        "print(\"--------------------------\")\n",
        "for i in range(1,11):\n",
        "  print(n,\" X\",i,\"=\",n*i)\n"
      ],
      "metadata": {
        "colab": {
          "base_uri": "https://localhost:8080/"
        },
        "id": "gjb-Zdxx7UZ1",
        "outputId": "4948aea8-3fb2-4ca1-8433-e50ac555bb89"
      },
      "execution_count": null,
      "outputs": [
        {
          "output_type": "stream",
          "name": "stdout",
          "text": [
            "Enter a number:5\n",
            "MULTIPLICATION TABLE OF 5\n",
            "--------------------------\n",
            "5  X 1 = 5\n",
            "5  X 2 = 10\n",
            "5  X 3 = 15\n",
            "5  X 4 = 20\n",
            "5  X 5 = 25\n",
            "5  X 6 = 30\n",
            "5  X 7 = 35\n",
            "5  X 8 = 40\n",
            "5  X 9 = 45\n",
            "5  X 10 = 50\n"
          ]
        }
      ]
    },
    {
      "cell_type": "code",
      "source": [
        "#write a program to calculate the factorial of a given number\n",
        "n=int(input(\"Enter a number:\"))\n",
        "fact=1\n",
        "for i in range(1,(n+1)):\n",
        "  fact=fact*i\n",
        "print(\"Factorial is : \",fact)"
      ],
      "metadata": {
        "colab": {
          "base_uri": "https://localhost:8080/"
        },
        "id": "azRzEPph9Cnh",
        "outputId": "daea0771-bd5c-483e-9c6e-3d273203656e"
      },
      "execution_count": null,
      "outputs": [
        {
          "output_type": "stream",
          "name": "stdout",
          "text": [
            "Enter a number:5\n",
            "Factorial is :  120\n"
          ]
        }
      ]
    },
    {
      "cell_type": "code",
      "source": [
        "#Program to print sum series\n",
        "n=int(input())\n",
        "sum=0.0\n",
        "for i in range(1,n+1):\n",
        "  s=1.0/i\n",
        "  sum=sum+s\n",
        "print(sum)\n"
      ],
      "metadata": {
        "colab": {
          "base_uri": "https://localhost:8080/"
        },
        "id": "AsNbZ2BH_ES8",
        "outputId": "7e114cb7-2d6e-48cd-a25e-37dd90bdc1bf"
      },
      "execution_count": null,
      "outputs": [
        {
          "output_type": "stream",
          "name": "stdout",
          "text": [
            "2\n",
            "1.5\n"
          ]
        }
      ]
    },
    {
      "cell_type": "code",
      "source": [
        "#program to print series sum for 1/2+2/3+3/4+......n/n+1\n",
        "n=int(input())\n",
        "sum=0.0\n",
        "for i in range(1,n+1):\n",
        "  formula=i/i+1\n",
        "  sum=sum+formula\n",
        "  print(sum)\n"
      ],
      "metadata": {
        "colab": {
          "base_uri": "https://localhost:8080/"
        },
        "id": "RkmmULyFBKkb",
        "outputId": "99def359-c28b-4ac2-9c4e-b7c6434f41dc"
      },
      "execution_count": null,
      "outputs": [
        {
          "output_type": "stream",
          "name": "stdout",
          "text": [
            "2\n",
            "2.0\n",
            "4.0\n"
          ]
        }
      ]
    },
    {
      "cell_type": "code",
      "source": [
        "#write a program to find the difference between odd index and even idex values for a number 1227\n",
        "n=int(input(\"Enter a number:\"))\n",
        "even=0\n",
        "odd=0\n",
        "while(n!=0):\n",
        "  r=n%10\n",
        "  if r%2==0:\n",
        "    even=even + r\n",
        "    n=n//10\n",
        "  else:\n",
        "    odd=odd + r\n",
        "    n=n//10\n",
        "print(even)\n",
        "print(odd)\n",
        "abs=(odd-even)\n",
        "print(abs,\"is the difference\")\n",
        "\n",
        "\n"
      ],
      "metadata": {
        "colab": {
          "base_uri": "https://localhost:8080/"
        },
        "id": "aAN374eTCPq0",
        "outputId": "8af82970-8d06-46bc-d67f-18916e4ababb"
      },
      "execution_count": null,
      "outputs": [
        {
          "output_type": "stream",
          "name": "stdout",
          "text": [
            "Enter a number:1227\n",
            "4\n",
            "8\n",
            "4 is the difference\n"
          ]
        }
      ]
    },
    {
      "cell_type": "code",
      "source": [
        "#Given a maximum of four digit to the bases 17(10-A,11-B,12-C,13-D.......16-G) as input and output its decimal value\n",
        "n=str(input())\n",
        "print(int(n,17))"
      ],
      "metadata": {
        "colab": {
          "base_uri": "https://localhost:8080/"
        },
        "id": "iBfEvBaEHLka",
        "outputId": "aa641d99-c80c-4475-a151-77a0285a1c95"
      },
      "execution_count": null,
      "outputs": [
        {
          "output_type": "stream",
          "name": "stdout",
          "text": [
            "1A\n",
            "27\n"
          ]
        }
      ]
    },
    {
      "cell_type": "code",
      "source": [
        "var=[20,21,22,23,24,25]\n",
        "for i in var:\n",
        "  if i==23:\n",
        "    break\n",
        "  print(i)\n",
        "  "
      ],
      "metadata": {
        "colab": {
          "base_uri": "https://localhost:8080/"
        },
        "id": "JYAeb-CiLPIx",
        "outputId": "920307ba-00ec-4e8c-8b58-32995a8b7bf5"
      },
      "execution_count": null,
      "outputs": [
        {
          "output_type": "stream",
          "name": "stdout",
          "text": [
            "20\n",
            "21\n",
            "22\n"
          ]
        }
      ]
    },
    {
      "cell_type": "code",
      "source": [
        "#using pass\n",
        "for letter in \"Sri\":\n",
        "  pass\n",
        "  print(\"pass:\",letter)\n"
      ],
      "metadata": {
        "colab": {
          "base_uri": "https://localhost:8080/"
        },
        "id": "hL-h7UK5O4cg",
        "outputId": "203eba56-5a06-4599-9505-bb4c6b049cb5"
      },
      "execution_count": null,
      "outputs": [
        {
          "output_type": "stream",
          "name": "stdout",
          "text": [
            "pass: S\n",
            "pass: r\n",
            "pass: i\n"
          ]
        }
      ]
    },
    {
      "cell_type": "code",
      "source": [
        "#Calendar Problem\n",
        "import calendar\n",
        "n=int(input(\"Enter the year:\"))\n",
        "m=1\n",
        "cal=calendar.TextCalendar(calendar.SUNDAY)\n",
        "i=1\n",
        "while i<=12:\n",
        "  cal.prmonth(n,i)\n",
        "  i=i+1\n"
      ],
      "metadata": {
        "colab": {
          "base_uri": "https://localhost:8080/"
        },
        "id": "MPBmDcPkSvRn",
        "outputId": "db5d3226-3927-4417-d644-fc3878e66779"
      },
      "execution_count": null,
      "outputs": [
        {
          "output_type": "stream",
          "name": "stdout",
          "text": [
            "Enter the year:2023\n",
            "    January 2023\n",
            "Su Mo Tu We Th Fr Sa\n",
            " 1  2  3  4  5  6  7\n",
            " 8  9 10 11 12 13 14\n",
            "15 16 17 18 19 20 21\n",
            "22 23 24 25 26 27 28\n",
            "29 30 31\n",
            "   February 2023\n",
            "Su Mo Tu We Th Fr Sa\n",
            "          1  2  3  4\n",
            " 5  6  7  8  9 10 11\n",
            "12 13 14 15 16 17 18\n",
            "19 20 21 22 23 24 25\n",
            "26 27 28\n",
            "     March 2023\n",
            "Su Mo Tu We Th Fr Sa\n",
            "          1  2  3  4\n",
            " 5  6  7  8  9 10 11\n",
            "12 13 14 15 16 17 18\n",
            "19 20 21 22 23 24 25\n",
            "26 27 28 29 30 31\n",
            "     April 2023\n",
            "Su Mo Tu We Th Fr Sa\n",
            "                   1\n",
            " 2  3  4  5  6  7  8\n",
            " 9 10 11 12 13 14 15\n",
            "16 17 18 19 20 21 22\n",
            "23 24 25 26 27 28 29\n",
            "30\n",
            "      May 2023\n",
            "Su Mo Tu We Th Fr Sa\n",
            "    1  2  3  4  5  6\n",
            " 7  8  9 10 11 12 13\n",
            "14 15 16 17 18 19 20\n",
            "21 22 23 24 25 26 27\n",
            "28 29 30 31\n",
            "     June 2023\n",
            "Su Mo Tu We Th Fr Sa\n",
            "             1  2  3\n",
            " 4  5  6  7  8  9 10\n",
            "11 12 13 14 15 16 17\n",
            "18 19 20 21 22 23 24\n",
            "25 26 27 28 29 30\n",
            "     July 2023\n",
            "Su Mo Tu We Th Fr Sa\n",
            "                   1\n",
            " 2  3  4  5  6  7  8\n",
            " 9 10 11 12 13 14 15\n",
            "16 17 18 19 20 21 22\n",
            "23 24 25 26 27 28 29\n",
            "30 31\n",
            "    August 2023\n",
            "Su Mo Tu We Th Fr Sa\n",
            "       1  2  3  4  5\n",
            " 6  7  8  9 10 11 12\n",
            "13 14 15 16 17 18 19\n",
            "20 21 22 23 24 25 26\n",
            "27 28 29 30 31\n",
            "   September 2023\n",
            "Su Mo Tu We Th Fr Sa\n",
            "                1  2\n",
            " 3  4  5  6  7  8  9\n",
            "10 11 12 13 14 15 16\n",
            "17 18 19 20 21 22 23\n",
            "24 25 26 27 28 29 30\n",
            "    October 2023\n",
            "Su Mo Tu We Th Fr Sa\n",
            " 1  2  3  4  5  6  7\n",
            " 8  9 10 11 12 13 14\n",
            "15 16 17 18 19 20 21\n",
            "22 23 24 25 26 27 28\n",
            "29 30 31\n",
            "   November 2023\n",
            "Su Mo Tu We Th Fr Sa\n",
            "          1  2  3  4\n",
            " 5  6  7  8  9 10 11\n",
            "12 13 14 15 16 17 18\n",
            "19 20 21 22 23 24 25\n",
            "26 27 28 29 30\n",
            "   December 2023\n",
            "Su Mo Tu We Th Fr Sa\n",
            "                1  2\n",
            " 3  4  5  6  7  8  9\n",
            "10 11 12 13 14 15 16\n",
            "17 18 19 20 21 22 23\n",
            "24 25 26 27 28 29 30\n",
            "31\n"
          ]
        }
      ]
    }
  ]
}